{
 "cells": [
  {
   "cell_type": "code",
   "execution_count": 1,
   "id": "ad9da081",
   "metadata": {},
   "outputs": [],
   "source": [
    "import pandas as pd\n",
    "import numpy as np\n",
    "import matplotlib.pyplot as plt\n",
    "from scipy.optimize import curve_fit\n",
    "import scipy.stats as ss\n",
    "from scipy.stats import expon\n",
    "import pickle"
   ]
  },
  {
   "cell_type": "markdown",
   "id": "fe822a7e",
   "metadata": {},
   "source": [
    "# Task 1: Input Analysis\n",
    "## Requirements:\n",
    "Analyze the measured data to find what distributions the inter-arrival times of calls, the\n",
    "locations where calls are generated, the call durations, and car speeds follow\n",
    "respectively. You also need to find the parameter values of these distributions. (The\n",
    "measured data are provided in the file “PCS_TEST_DETERMINSTIC”)"
   ]
  },
  {
   "cell_type": "code",
   "execution_count": 2,
   "id": "9b624993",
   "metadata": {},
   "outputs": [
    {
     "data": {
      "text/html": [
       "<div>\n",
       "<style scoped>\n",
       "    .dataframe tbody tr th:only-of-type {\n",
       "        vertical-align: middle;\n",
       "    }\n",
       "\n",
       "    .dataframe tbody tr th {\n",
       "        vertical-align: top;\n",
       "    }\n",
       "\n",
       "    .dataframe thead th {\n",
       "        text-align: right;\n",
       "    }\n",
       "</style>\n",
       "<table border=\"1\" class=\"dataframe\">\n",
       "  <thead>\n",
       "    <tr style=\"text-align: right;\">\n",
       "      <th></th>\n",
       "      <th>Arrival no</th>\n",
       "      <th>Arrival time (sec)</th>\n",
       "      <th>Base station</th>\n",
       "      <th>Call duration (sec)</th>\n",
       "      <th>velocity (km/h)</th>\n",
       "    </tr>\n",
       "  </thead>\n",
       "  <tbody>\n",
       "    <tr>\n",
       "      <th>0</th>\n",
       "      <td>1</td>\n",
       "      <td>0.000000</td>\n",
       "      <td>18</td>\n",
       "      <td>76.133611</td>\n",
       "      <td>125.934254</td>\n",
       "    </tr>\n",
       "    <tr>\n",
       "      <th>1</th>\n",
       "      <td>2</td>\n",
       "      <td>0.067744</td>\n",
       "      <td>7</td>\n",
       "      <td>159.056244</td>\n",
       "      <td>95.510881</td>\n",
       "    </tr>\n",
       "    <tr>\n",
       "      <th>2</th>\n",
       "      <td>3</td>\n",
       "      <td>0.559184</td>\n",
       "      <td>6</td>\n",
       "      <td>179.465053</td>\n",
       "      <td>127.757456</td>\n",
       "    </tr>\n",
       "    <tr>\n",
       "      <th>3</th>\n",
       "      <td>4</td>\n",
       "      <td>0.625319</td>\n",
       "      <td>14</td>\n",
       "      <td>163.108320</td>\n",
       "      <td>134.310552</td>\n",
       "    </tr>\n",
       "    <tr>\n",
       "      <th>4</th>\n",
       "      <td>5</td>\n",
       "      <td>1.345066</td>\n",
       "      <td>2</td>\n",
       "      <td>95.054472</td>\n",
       "      <td>112.272359</td>\n",
       "    </tr>\n",
       "    <tr>\n",
       "      <th>...</th>\n",
       "      <td>...</td>\n",
       "      <td>...</td>\n",
       "      <td>...</td>\n",
       "      <td>...</td>\n",
       "      <td>...</td>\n",
       "    </tr>\n",
       "    <tr>\n",
       "      <th>9995</th>\n",
       "      <td>9996</td>\n",
       "      <td>13692.269647</td>\n",
       "      <td>4</td>\n",
       "      <td>116.119337</td>\n",
       "      <td>119.601001</td>\n",
       "    </tr>\n",
       "    <tr>\n",
       "      <th>9996</th>\n",
       "      <td>9997</td>\n",
       "      <td>13692.593630</td>\n",
       "      <td>16</td>\n",
       "      <td>37.970440</td>\n",
       "      <td>114.278648</td>\n",
       "    </tr>\n",
       "    <tr>\n",
       "      <th>9997</th>\n",
       "      <td>9998</td>\n",
       "      <td>13694.615122</td>\n",
       "      <td>3</td>\n",
       "      <td>31.919218</td>\n",
       "      <td>123.540944</td>\n",
       "    </tr>\n",
       "    <tr>\n",
       "      <th>9998</th>\n",
       "      <td>9999</td>\n",
       "      <td>13695.404091</td>\n",
       "      <td>12</td>\n",
       "      <td>386.621127</td>\n",
       "      <td>123.507947</td>\n",
       "    </tr>\n",
       "    <tr>\n",
       "      <th>9999</th>\n",
       "      <td>10000</td>\n",
       "      <td>13696.799448</td>\n",
       "      <td>7</td>\n",
       "      <td>167.610575</td>\n",
       "      <td>122.363562</td>\n",
       "    </tr>\n",
       "  </tbody>\n",
       "</table>\n",
       "<p>10000 rows × 5 columns</p>\n",
       "</div>"
      ],
      "text/plain": [
       "      Arrival no  Arrival time (sec)  Base station   Call duration (sec)  \\\n",
       "0              1            0.000000             18            76.133611   \n",
       "1              2            0.067744              7           159.056244   \n",
       "2              3            0.559184              6           179.465053   \n",
       "3              4            0.625319             14           163.108320   \n",
       "4              5            1.345066              2            95.054472   \n",
       "...          ...                 ...            ...                  ...   \n",
       "9995        9996        13692.269647              4           116.119337   \n",
       "9996        9997        13692.593630             16            37.970440   \n",
       "9997        9998        13694.615122              3            31.919218   \n",
       "9998        9999        13695.404091             12           386.621127   \n",
       "9999       10000        13696.799448              7           167.610575   \n",
       "\n",
       "      velocity (km/h)  \n",
       "0          125.934254  \n",
       "1           95.510881  \n",
       "2          127.757456  \n",
       "3          134.310552  \n",
       "4          112.272359  \n",
       "...               ...  \n",
       "9995       119.601001  \n",
       "9996       114.278648  \n",
       "9997       123.540944  \n",
       "9998       123.507947  \n",
       "9999       122.363562  \n",
       "\n",
       "[10000 rows x 5 columns]"
      ]
     },
     "execution_count": 2,
     "metadata": {},
     "output_type": "execute_result"
    }
   ],
   "source": [
    "input_df = pd.read_excel(\"./PCS_TEST_DETERMINSTIC.xls\")\n",
    "input_df"
   ]
  },
  {
   "cell_type": "markdown",
   "id": "58cfcea1",
   "metadata": {},
   "source": [
    "## 1. Distribution of Inter-arrival Times"
   ]
  },
  {
   "cell_type": "markdown",
   "id": "7d77e9bd",
   "metadata": {},
   "source": [
    "### 1.1. Distribution Visualization"
   ]
  },
  {
   "cell_type": "code",
   "execution_count": 3,
   "id": "992a0a4a",
   "metadata": {},
   "outputs": [
    {
     "data": {
      "text/html": [
       "<div>\n",
       "<style scoped>\n",
       "    .dataframe tbody tr th:only-of-type {\n",
       "        vertical-align: middle;\n",
       "    }\n",
       "\n",
       "    .dataframe tbody tr th {\n",
       "        vertical-align: top;\n",
       "    }\n",
       "\n",
       "    .dataframe thead th {\n",
       "        text-align: right;\n",
       "    }\n",
       "</style>\n",
       "<table border=\"1\" class=\"dataframe\">\n",
       "  <thead>\n",
       "    <tr style=\"text-align: right;\">\n",
       "      <th></th>\n",
       "      <th>Arrival time (sec)</th>\n",
       "    </tr>\n",
       "  </thead>\n",
       "  <tbody>\n",
       "    <tr>\n",
       "      <th>0</th>\n",
       "      <td>0.000000</td>\n",
       "    </tr>\n",
       "    <tr>\n",
       "      <th>1</th>\n",
       "      <td>0.067744</td>\n",
       "    </tr>\n",
       "    <tr>\n",
       "      <th>2</th>\n",
       "      <td>0.559184</td>\n",
       "    </tr>\n",
       "    <tr>\n",
       "      <th>3</th>\n",
       "      <td>0.625319</td>\n",
       "    </tr>\n",
       "    <tr>\n",
       "      <th>4</th>\n",
       "      <td>1.345066</td>\n",
       "    </tr>\n",
       "    <tr>\n",
       "      <th>...</th>\n",
       "      <td>...</td>\n",
       "    </tr>\n",
       "    <tr>\n",
       "      <th>9995</th>\n",
       "      <td>13692.269647</td>\n",
       "    </tr>\n",
       "    <tr>\n",
       "      <th>9996</th>\n",
       "      <td>13692.593630</td>\n",
       "    </tr>\n",
       "    <tr>\n",
       "      <th>9997</th>\n",
       "      <td>13694.615122</td>\n",
       "    </tr>\n",
       "    <tr>\n",
       "      <th>9998</th>\n",
       "      <td>13695.404091</td>\n",
       "    </tr>\n",
       "    <tr>\n",
       "      <th>9999</th>\n",
       "      <td>13696.799448</td>\n",
       "    </tr>\n",
       "  </tbody>\n",
       "</table>\n",
       "<p>10000 rows × 1 columns</p>\n",
       "</div>"
      ],
      "text/plain": [
       "      Arrival time (sec)\n",
       "0               0.000000\n",
       "1               0.067744\n",
       "2               0.559184\n",
       "3               0.625319\n",
       "4               1.345066\n",
       "...                  ...\n",
       "9995        13692.269647\n",
       "9996        13692.593630\n",
       "9997        13694.615122\n",
       "9998        13695.404091\n",
       "9999        13696.799448\n",
       "\n",
       "[10000 rows x 1 columns]"
      ]
     },
     "execution_count": 3,
     "metadata": {},
     "output_type": "execute_result"
    }
   ],
   "source": [
    "# distribution of inter-arrival time of calls\n",
    "arrival_times = input_df[[\"Arrival time (sec)\"]]\n",
    "arrival_times"
   ]
  },
  {
   "cell_type": "code",
   "execution_count": 4,
   "id": "0cf87ae6",
   "metadata": {},
   "outputs": [
    {
     "name": "stderr",
     "output_type": "stream",
     "text": [
      "/var/folders/0x/fy8jlvdd74ddy8g10p7tbm_w0000gn/T/ipykernel_72056/3516481826.py:4: SettingWithCopyWarning: \n",
      "A value is trying to be set on a copy of a slice from a DataFrame.\n",
      "Try using .loc[row_indexer,col_indexer] = value instead\n",
      "\n",
      "See the caveats in the documentation: https://pandas.pydata.org/pandas-docs/stable/user_guide/indexing.html#returning-a-view-versus-a-copy\n",
      "  arrival_times['interarrival_time'] = interarrival_list\n"
     ]
    },
    {
     "data": {
      "text/html": [
       "<div>\n",
       "<style scoped>\n",
       "    .dataframe tbody tr th:only-of-type {\n",
       "        vertical-align: middle;\n",
       "    }\n",
       "\n",
       "    .dataframe tbody tr th {\n",
       "        vertical-align: top;\n",
       "    }\n",
       "\n",
       "    .dataframe thead th {\n",
       "        text-align: right;\n",
       "    }\n",
       "</style>\n",
       "<table border=\"1\" class=\"dataframe\">\n",
       "  <thead>\n",
       "    <tr style=\"text-align: right;\">\n",
       "      <th></th>\n",
       "      <th>Arrival time (sec)</th>\n",
       "      <th>interarrival_time</th>\n",
       "    </tr>\n",
       "  </thead>\n",
       "  <tbody>\n",
       "    <tr>\n",
       "      <th>0</th>\n",
       "      <td>0.000000</td>\n",
       "      <td>NaN</td>\n",
       "    </tr>\n",
       "    <tr>\n",
       "      <th>1</th>\n",
       "      <td>0.067744</td>\n",
       "      <td>0.067744</td>\n",
       "    </tr>\n",
       "    <tr>\n",
       "      <th>2</th>\n",
       "      <td>0.559184</td>\n",
       "      <td>0.491441</td>\n",
       "    </tr>\n",
       "    <tr>\n",
       "      <th>3</th>\n",
       "      <td>0.625319</td>\n",
       "      <td>0.066135</td>\n",
       "    </tr>\n",
       "    <tr>\n",
       "      <th>4</th>\n",
       "      <td>1.345066</td>\n",
       "      <td>0.719747</td>\n",
       "    </tr>\n",
       "    <tr>\n",
       "      <th>...</th>\n",
       "      <td>...</td>\n",
       "      <td>...</td>\n",
       "    </tr>\n",
       "    <tr>\n",
       "      <th>9995</th>\n",
       "      <td>13692.269647</td>\n",
       "      <td>1.300345</td>\n",
       "    </tr>\n",
       "    <tr>\n",
       "      <th>9996</th>\n",
       "      <td>13692.593630</td>\n",
       "      <td>0.323983</td>\n",
       "    </tr>\n",
       "    <tr>\n",
       "      <th>9997</th>\n",
       "      <td>13694.615122</td>\n",
       "      <td>2.021492</td>\n",
       "    </tr>\n",
       "    <tr>\n",
       "      <th>9998</th>\n",
       "      <td>13695.404091</td>\n",
       "      <td>0.788969</td>\n",
       "    </tr>\n",
       "    <tr>\n",
       "      <th>9999</th>\n",
       "      <td>13696.799448</td>\n",
       "      <td>1.395357</td>\n",
       "    </tr>\n",
       "  </tbody>\n",
       "</table>\n",
       "<p>10000 rows × 2 columns</p>\n",
       "</div>"
      ],
      "text/plain": [
       "      Arrival time (sec)  interarrival_time\n",
       "0               0.000000                NaN\n",
       "1               0.067744           0.067744\n",
       "2               0.559184           0.491441\n",
       "3               0.625319           0.066135\n",
       "4               1.345066           0.719747\n",
       "...                  ...                ...\n",
       "9995        13692.269647           1.300345\n",
       "9996        13692.593630           0.323983\n",
       "9997        13694.615122           2.021492\n",
       "9998        13695.404091           0.788969\n",
       "9999        13696.799448           1.395357\n",
       "\n",
       "[10000 rows x 2 columns]"
      ]
     },
     "execution_count": 4,
     "metadata": {},
     "output_type": "execute_result"
    }
   ],
   "source": [
    "# calculate inter-arrival times\n",
    "interarrival_list = list(arrival_times[\"Arrival time (sec)\"].rolling(window=2).apply(lambda x: x.iloc[1] - x.iloc[0])\n",
    ")\n",
    "arrival_times['interarrival_time'] = interarrival_list\n",
    "arrival_times"
   ]
  },
  {
   "cell_type": "code",
   "execution_count": 5,
   "id": "87a75fd2",
   "metadata": {},
   "outputs": [
    {
     "data": {
      "image/png": "[encoded data removed]",
      "text/plain": [
       "<Figure size 640x480 with 1 Axes>"
      ]
     },
     "metadata": {},
     "output_type": "display_data"
    }
   ],
   "source": [
    "# plot histogram of distribution\n",
    "num_bins = 40\n",
    "   \n",
    "n, bins, patches = plt.hist(arrival_times['interarrival_time'], num_bins, \n",
    "                            color ='green')"
   ]
  },
  {
   "cell_type": "markdown",
   "id": "c83a4c4d",
   "metadata": {},
   "source": [
    "The distribution looks like it follows exponential distribution. "
   ]
  },
  {
   "cell_type": "code",
   "execution_count": 6,
   "id": "ca0451f2",
   "metadata": {},
   "outputs": [],
   "source": [
    "loc, scale = expon.fit(arrival_times['interarrival_time'].tolist()[1:])"
   ]
  },
  {
   "cell_type": "code",
   "execution_count": 7,
   "id": "5d55142c",
   "metadata": {},
   "outputs": [
    {
     "data": {
      "text/plain": [
       "2.5090155759244226e-05"
      ]
     },
     "execution_count": 7,
     "metadata": {},
     "output_type": "execute_result"
    }
   ],
   "source": [
    "loc"
   ]
  },
  {
   "cell_type": "code",
   "execution_count": 8,
   "id": "904fe062",
   "metadata": {},
   "outputs": [
    {
     "data": {
      "text/plain": [
       "1.3697918363207653"
      ]
     },
     "execution_count": 8,
     "metadata": {},
     "output_type": "execute_result"
    }
   ],
   "source": [
    "scale"
   ]
  },
  {
   "cell_type": "code",
   "execution_count": 9,
   "id": "c600b048",
   "metadata": {},
   "outputs": [
    {
     "data": {
      "image/png": "[encoded data removed]",
      "text/plain": [
       "<Figure size 640x480 with 1 Axes>"
      ]
     },
     "metadata": {},
     "output_type": "display_data"
    }
   ],
   "source": [
    "# Plot the histogram.\n",
    "hist, _, _ = plt.hist(arrival_times['interarrival_time'].tolist()[1:], density = True, bins=20, color='g')\n",
    "\n",
    "# Plot the PDF.\n",
    "xmin, xmax = plt.xlim()\n",
    "x = np.linspace(xmin, xmax, 100)\n",
    "p = expon.pdf(x, loc, scale)\n",
    "plt.plot(x, p, 'k', linewidth=2)\n",
    "title = \"Fit to exponential distribution, results: location = %.8f,  scale = %.2f\" % (loc, scale)\n",
    "plt.title(title)\n",
    "\n",
    "plt.show()"
   ]
  },
  {
   "cell_type": "code",
   "execution_count": 10,
   "id": "51a21cb6",
   "metadata": {},
   "outputs": [
    {
     "data": {
      "image/png": "[encoded data removed]",
      "text/plain": [
       "<Figure size 640x480 with 1 Axes>"
      ]
     },
     "metadata": {},
     "output_type": "display_data"
    }
   ],
   "source": [
    "interrarrivals_generated = expon.rvs(loc=loc, scale=scale, size=10000)\n",
    "plt.figure()\n",
    "plt.hist(interrarrivals_generated, 20, color='green', label=\"Generated Interarrival Time Distribution\")\n",
    "plt.show()"
   ]
  },
  {
   "cell_type": "markdown",
   "id": "5d632668",
   "metadata": {},
   "source": [
    "### 1.2. Conclusion\n",
    "From the scatter plot above, we could derive the conclusion that the distribution of arrival times follows exponential distribution a * np.exp(-b * x) + c with a = 2005.85994,  b = 0.704726220, c = -3.62280800"
   ]
  },
  {
   "cell_type": "markdown",
   "id": "97daf8d7",
   "metadata": {},
   "source": [
    "## 2. Distribution of locations where the call is generated"
   ]
  },
  {
   "cell_type": "markdown",
   "id": "aec327db",
   "metadata": {},
   "source": [
    "### 1.2. Distribution Visualization"
   ]
  },
  {
   "cell_type": "code",
   "execution_count": 11,
   "id": "15206e3e",
   "metadata": {},
   "outputs": [
    {
     "data": {
      "text/html": [
       "<div>\n",
       "<style scoped>\n",
       "    .dataframe tbody tr th:only-of-type {\n",
       "        vertical-align: middle;\n",
       "    }\n",
       "\n",
       "    .dataframe tbody tr th {\n",
       "        vertical-align: top;\n",
       "    }\n",
       "\n",
       "    .dataframe thead th {\n",
       "        text-align: right;\n",
       "    }\n",
       "</style>\n",
       "<table border=\"1\" class=\"dataframe\">\n",
       "  <thead>\n",
       "    <tr style=\"text-align: right;\">\n",
       "      <th></th>\n",
       "      <th>Base station</th>\n",
       "    </tr>\n",
       "  </thead>\n",
       "  <tbody>\n",
       "    <tr>\n",
       "      <th>0</th>\n",
       "      <td>18</td>\n",
       "    </tr>\n",
       "    <tr>\n",
       "      <th>1</th>\n",
       "      <td>7</td>\n",
       "    </tr>\n",
       "    <tr>\n",
       "      <th>2</th>\n",
       "      <td>6</td>\n",
       "    </tr>\n",
       "    <tr>\n",
       "      <th>3</th>\n",
       "      <td>14</td>\n",
       "    </tr>\n",
       "    <tr>\n",
       "      <th>4</th>\n",
       "      <td>2</td>\n",
       "    </tr>\n",
       "    <tr>\n",
       "      <th>...</th>\n",
       "      <td>...</td>\n",
       "    </tr>\n",
       "    <tr>\n",
       "      <th>9995</th>\n",
       "      <td>4</td>\n",
       "    </tr>\n",
       "    <tr>\n",
       "      <th>9996</th>\n",
       "      <td>16</td>\n",
       "    </tr>\n",
       "    <tr>\n",
       "      <th>9997</th>\n",
       "      <td>3</td>\n",
       "    </tr>\n",
       "    <tr>\n",
       "      <th>9998</th>\n",
       "      <td>12</td>\n",
       "    </tr>\n",
       "    <tr>\n",
       "      <th>9999</th>\n",
       "      <td>7</td>\n",
       "    </tr>\n",
       "  </tbody>\n",
       "</table>\n",
       "<p>10000 rows × 1 columns</p>\n",
       "</div>"
      ],
      "text/plain": [
       "      Base station \n",
       "0                18\n",
       "1                 7\n",
       "2                 6\n",
       "3                14\n",
       "4                 2\n",
       "...             ...\n",
       "9995              4\n",
       "9996             16\n",
       "9997              3\n",
       "9998             12\n",
       "9999              7\n",
       "\n",
       "[10000 rows x 1 columns]"
      ]
     },
     "execution_count": 11,
     "metadata": {},
     "output_type": "execute_result"
    }
   ],
   "source": [
    "base_stations = input_df[['Base station ']]\n",
    "base_stations"
   ]
  },
  {
   "cell_type": "code",
   "execution_count": 12,
   "id": "30f0052e",
   "metadata": {},
   "outputs": [
    {
     "data": {
      "text/html": [
       "<div>\n",
       "<style scoped>\n",
       "    .dataframe tbody tr th:only-of-type {\n",
       "        vertical-align: middle;\n",
       "    }\n",
       "\n",
       "    .dataframe tbody tr th {\n",
       "        vertical-align: top;\n",
       "    }\n",
       "\n",
       "    .dataframe thead th {\n",
       "        text-align: right;\n",
       "    }\n",
       "</style>\n",
       "<table border=\"1\" class=\"dataframe\">\n",
       "  <thead>\n",
       "    <tr style=\"text-align: right;\">\n",
       "      <th></th>\n",
       "      <th>Base station</th>\n",
       "    </tr>\n",
       "  </thead>\n",
       "  <tbody>\n",
       "    <tr>\n",
       "      <th>count</th>\n",
       "      <td>10000.00000</td>\n",
       "    </tr>\n",
       "    <tr>\n",
       "      <th>mean</th>\n",
       "      <td>10.54220</td>\n",
       "    </tr>\n",
       "    <tr>\n",
       "      <th>std</th>\n",
       "      <td>5.78662</td>\n",
       "    </tr>\n",
       "    <tr>\n",
       "      <th>min</th>\n",
       "      <td>1.00000</td>\n",
       "    </tr>\n",
       "    <tr>\n",
       "      <th>25%</th>\n",
       "      <td>6.00000</td>\n",
       "    </tr>\n",
       "    <tr>\n",
       "      <th>50%</th>\n",
       "      <td>11.00000</td>\n",
       "    </tr>\n",
       "    <tr>\n",
       "      <th>75%</th>\n",
       "      <td>16.00000</td>\n",
       "    </tr>\n",
       "    <tr>\n",
       "      <th>max</th>\n",
       "      <td>20.00000</td>\n",
       "    </tr>\n",
       "  </tbody>\n",
       "</table>\n",
       "</div>"
      ],
      "text/plain": [
       "       Base station \n",
       "count    10000.00000\n",
       "mean        10.54220\n",
       "std          5.78662\n",
       "min          1.00000\n",
       "25%          6.00000\n",
       "50%         11.00000\n",
       "75%         16.00000\n",
       "max         20.00000"
      ]
     },
     "execution_count": 12,
     "metadata": {},
     "output_type": "execute_result"
    }
   ],
   "source": [
    "base_stations.describe()"
   ]
  },
  {
   "cell_type": "code",
   "execution_count": 13,
   "id": "edf3ad13",
   "metadata": {},
   "outputs": [
    {
     "data": {
      "image/png": "[encoded data removed]",
      "text/plain": [
       "<Figure size 640x480 with 1 Axes>"
      ]
     },
     "metadata": {},
     "output_type": "display_data"
    }
   ],
   "source": [
    "# plot histogram for distribution\n",
    "num_bins = 10\n",
    "n, bins, patches = plt.hist(base_stations['Base station '], num_bins, color = 'green')"
   ]
  },
  {
   "cell_type": "code",
   "execution_count": 14,
   "id": "09a10aac",
   "metadata": {},
   "outputs": [
    {
     "data": {
      "text/plain": [
       "array([1037.,  964.,  940., 1051.,  989.,  977.,  998., 1007.,  983.,\n",
       "       1054.])"
      ]
     },
     "execution_count": 14,
     "metadata": {},
     "output_type": "execute_result"
    }
   ],
   "source": [
    "n"
   ]
  },
  {
   "cell_type": "code",
   "execution_count": 15,
   "id": "85f214ff",
   "metadata": {},
   "outputs": [
    {
     "data": {
      "text/plain": [
       "array([ 1. ,  2.9,  4.8,  6.7,  8.6, 10.5, 12.4, 14.3, 16.2, 18.1, 20. ])"
      ]
     },
     "execution_count": 15,
     "metadata": {},
     "output_type": "execute_result"
    }
   ],
   "source": [
    "bins"
   ]
  },
  {
   "cell_type": "code",
   "execution_count": 16,
   "id": "8cbf5667",
   "metadata": {},
   "outputs": [],
   "source": [
    "from scipy.stats import uniform\n",
    "mu, std = uniform.fit(bins)"
   ]
  },
  {
   "cell_type": "code",
   "execution_count": 17,
   "id": "1dfbf728",
   "metadata": {},
   "outputs": [
    {
     "data": {
      "image/png": "[encoded data removed]",
      "text/plain": [
       "<Figure size 640x480 with 1 Axes>"
      ]
     },
     "metadata": {},
     "output_type": "display_data"
    }
   ],
   "source": [
    "x = bins\n",
    "p = uniform.pdf(x, mu, std)\n",
    "plt.plot(x, p, 'k', linewidth=2)\n",
    "plt.title(\"Uniform Fitting\")\n",
    "plt.show()"
   ]
  },
  {
   "cell_type": "code",
   "execution_count": 18,
   "id": "baa69128",
   "metadata": {},
   "outputs": [
    {
     "data": {
      "image/png": "[encoded data removed]",
      "text/plain": [
       "<Figure size 640x480 with 1 Axes>"
      ]
     },
     "metadata": {},
     "output_type": "display_data"
    }
   ],
   "source": [
    "uniform_distributions = np.random.uniform(1, 20, 10000) \n",
    "count, bins, ignored = plt.hist(uniform_distributions, 10)\n",
    "plt.title('Uniform Distribution')\n",
    "plt.ylabel('Density')\n",
    "plt.xlabel('Values')\n",
    "plt.show()"
   ]
  },
  {
   "cell_type": "markdown",
   "id": "a2c7fc2c",
   "metadata": {},
   "source": [
    "## 3. Distribution of call durations"
   ]
  },
  {
   "cell_type": "code",
   "execution_count": 19,
   "id": "e064e099",
   "metadata": {},
   "outputs": [
    {
     "data": {
      "text/plain": [
       "Index(['Arrival no', 'Arrival time (sec)', 'Base station ',\n",
       "       'Call duration (sec)', 'velocity (km/h)'],\n",
       "      dtype='object')"
      ]
     },
     "execution_count": 19,
     "metadata": {},
     "output_type": "execute_result"
    }
   ],
   "source": [
    "input_df.columns"
   ]
  },
  {
   "cell_type": "code",
   "execution_count": 20,
   "id": "cc9b2753",
   "metadata": {},
   "outputs": [
    {
     "data": {
      "text/html": [
       "<div>\n",
       "<style scoped>\n",
       "    .dataframe tbody tr th:only-of-type {\n",
       "        vertical-align: middle;\n",
       "    }\n",
       "\n",
       "    .dataframe tbody tr th {\n",
       "        vertical-align: top;\n",
       "    }\n",
       "\n",
       "    .dataframe thead th {\n",
       "        text-align: right;\n",
       "    }\n",
       "</style>\n",
       "<table border=\"1\" class=\"dataframe\">\n",
       "  <thead>\n",
       "    <tr style=\"text-align: right;\">\n",
       "      <th></th>\n",
       "      <th>Call duration (sec)</th>\n",
       "    </tr>\n",
       "  </thead>\n",
       "  <tbody>\n",
       "    <tr>\n",
       "      <th>0</th>\n",
       "      <td>76.133611</td>\n",
       "    </tr>\n",
       "    <tr>\n",
       "      <th>1</th>\n",
       "      <td>159.056244</td>\n",
       "    </tr>\n",
       "    <tr>\n",
       "      <th>2</th>\n",
       "      <td>179.465053</td>\n",
       "    </tr>\n",
       "    <tr>\n",
       "      <th>3</th>\n",
       "      <td>163.108320</td>\n",
       "    </tr>\n",
       "    <tr>\n",
       "      <th>4</th>\n",
       "      <td>95.054472</td>\n",
       "    </tr>\n",
       "    <tr>\n",
       "      <th>...</th>\n",
       "      <td>...</td>\n",
       "    </tr>\n",
       "    <tr>\n",
       "      <th>9995</th>\n",
       "      <td>116.119337</td>\n",
       "    </tr>\n",
       "    <tr>\n",
       "      <th>9996</th>\n",
       "      <td>37.970440</td>\n",
       "    </tr>\n",
       "    <tr>\n",
       "      <th>9997</th>\n",
       "      <td>31.919218</td>\n",
       "    </tr>\n",
       "    <tr>\n",
       "      <th>9998</th>\n",
       "      <td>386.621127</td>\n",
       "    </tr>\n",
       "    <tr>\n",
       "      <th>9999</th>\n",
       "      <td>167.610575</td>\n",
       "    </tr>\n",
       "  </tbody>\n",
       "</table>\n",
       "<p>10000 rows × 1 columns</p>\n",
       "</div>"
      ],
      "text/plain": [
       "      Call duration (sec)\n",
       "0               76.133611\n",
       "1              159.056244\n",
       "2              179.465053\n",
       "3              163.108320\n",
       "4               95.054472\n",
       "...                   ...\n",
       "9995           116.119337\n",
       "9996            37.970440\n",
       "9997            31.919218\n",
       "9998           386.621127\n",
       "9999           167.610575\n",
       "\n",
       "[10000 rows x 1 columns]"
      ]
     },
     "execution_count": 20,
     "metadata": {},
     "output_type": "execute_result"
    }
   ],
   "source": [
    "call_durations = input_df[['Call duration (sec)']]\n",
    "call_durations"
   ]
  },
  {
   "cell_type": "code",
   "execution_count": 21,
   "id": "5f6cdc20",
   "metadata": {},
   "outputs": [
    {
     "data": {
      "text/html": [
       "<div>\n",
       "<style scoped>\n",
       "    .dataframe tbody tr th:only-of-type {\n",
       "        vertical-align: middle;\n",
       "    }\n",
       "\n",
       "    .dataframe tbody tr th {\n",
       "        vertical-align: top;\n",
       "    }\n",
       "\n",
       "    .dataframe thead th {\n",
       "        text-align: right;\n",
       "    }\n",
       "</style>\n",
       "<table border=\"1\" class=\"dataframe\">\n",
       "  <thead>\n",
       "    <tr style=\"text-align: right;\">\n",
       "      <th></th>\n",
       "      <th>Call duration (sec)</th>\n",
       "    </tr>\n",
       "  </thead>\n",
       "  <tbody>\n",
       "    <tr>\n",
       "      <th>count</th>\n",
       "      <td>10000.000000</td>\n",
       "    </tr>\n",
       "    <tr>\n",
       "      <th>mean</th>\n",
       "      <td>109.835901</td>\n",
       "    </tr>\n",
       "    <tr>\n",
       "      <th>std</th>\n",
       "      <td>99.138916</td>\n",
       "    </tr>\n",
       "    <tr>\n",
       "      <th>min</th>\n",
       "      <td>10.003952</td>\n",
       "    </tr>\n",
       "    <tr>\n",
       "      <th>25%</th>\n",
       "      <td>38.777914</td>\n",
       "    </tr>\n",
       "    <tr>\n",
       "      <th>50%</th>\n",
       "      <td>79.937560</td>\n",
       "    </tr>\n",
       "    <tr>\n",
       "      <th>75%</th>\n",
       "      <td>148.109589</td>\n",
       "    </tr>\n",
       "    <tr>\n",
       "      <th>max</th>\n",
       "      <td>1239.836192</td>\n",
       "    </tr>\n",
       "  </tbody>\n",
       "</table>\n",
       "</div>"
      ],
      "text/plain": [
       "       Call duration (sec)\n",
       "count         10000.000000\n",
       "mean            109.835901\n",
       "std              99.138916\n",
       "min              10.003952\n",
       "25%              38.777914\n",
       "50%              79.937560\n",
       "75%             148.109589\n",
       "max            1239.836192"
      ]
     },
     "execution_count": 21,
     "metadata": {},
     "output_type": "execute_result"
    }
   ],
   "source": [
    "call_durations.describe()"
   ]
  },
  {
   "cell_type": "code",
   "execution_count": 22,
   "id": "8fb1d11c",
   "metadata": {},
   "outputs": [
    {
     "data": {
      "image/png": "[encoded data removed]",
      "text/plain": [
       "<Figure size 640x480 with 1 Axes>"
      ]
     },
     "metadata": {},
     "output_type": "display_data"
    }
   ],
   "source": [
    "# plot histogram for distribution\n",
    "num_bins = 40\n",
    "n, bins, patches = plt.hist(call_durations['Call duration (sec)'], num_bins, color = 'green')"
   ]
  },
  {
   "cell_type": "code",
   "execution_count": 23,
   "id": "af2ba82d",
   "metadata": {},
   "outputs": [],
   "source": [
    "loc, scale = expon.fit(call_durations['Call duration (sec)'].tolist())"
   ]
  },
  {
   "cell_type": "code",
   "execution_count": 24,
   "id": "e26ca539",
   "metadata": {},
   "outputs": [
    {
     "data": {
      "text/plain": [
       "10.003951603252272"
      ]
     },
     "execution_count": 24,
     "metadata": {},
     "output_type": "execute_result"
    }
   ],
   "source": [
    "loc"
   ]
  },
  {
   "cell_type": "code",
   "execution_count": 25,
   "id": "d7d6e735",
   "metadata": {},
   "outputs": [
    {
     "data": {
      "text/plain": [
       "99.83194913549542"
      ]
     },
     "execution_count": 25,
     "metadata": {},
     "output_type": "execute_result"
    }
   ],
   "source": [
    "scale"
   ]
  },
  {
   "cell_type": "code",
   "execution_count": 26,
   "id": "84320430",
   "metadata": {},
   "outputs": [
    {
     "data": {
      "image/png": "[encoded data removed]",
      "text/plain": [
       "<Figure size 640x480 with 1 Axes>"
      ]
     },
     "metadata": {},
     "output_type": "display_data"
    }
   ],
   "source": [
    "# Plot the histogram.\n",
    "hist, _, _ = plt.hist(call_durations['Call duration (sec)'].tolist(), density = True, bins=40, color='g')\n",
    "\n",
    "# Plot the PDF.\n",
    "xmin, xmax = plt.xlim()\n",
    "x = np.linspace(xmin, xmax, 100)\n",
    "p = expon.pdf(x, loc, scale)\n",
    "plt.plot(x, p, 'k', linewidth=2)\n",
    "title = \"Fit to exponential distribution, results: location = %.2f,  scale = %.2f\" % (loc, scale)\n",
    "plt.title(title)\n",
    "\n",
    "plt.show()"
   ]
  },
  {
   "cell_type": "code",
   "execution_count": 27,
   "id": "c16e68d3",
   "metadata": {},
   "outputs": [
    {
     "data": {
      "image/png": "[encoded data removed]",
      "text/plain": [
       "<Figure size 640x480 with 1 Axes>"
      ]
     },
     "metadata": {},
     "output_type": "display_data"
    }
   ],
   "source": [
    "call_durations_generated = expon.rvs(loc=loc, scale=scale, size=10000)\n",
    "plt.figure()\n",
    "plt.hist(call_durations_generated, 40, color='green', label=\"Generated Interarrival Time Distribution\")\n",
    "plt.show()"
   ]
  },
  {
   "cell_type": "markdown",
   "id": "62c833df",
   "metadata": {},
   "source": [
    "## 4. Distribution of car speeds"
   ]
  },
  {
   "cell_type": "code",
   "execution_count": 28,
   "id": "5a49555c",
   "metadata": {},
   "outputs": [
    {
     "data": {
      "text/html": [
       "<div>\n",
       "<style scoped>\n",
       "    .dataframe tbody tr th:only-of-type {\n",
       "        vertical-align: middle;\n",
       "    }\n",
       "\n",
       "    .dataframe tbody tr th {\n",
       "        vertical-align: top;\n",
       "    }\n",
       "\n",
       "    .dataframe thead th {\n",
       "        text-align: right;\n",
       "    }\n",
       "</style>\n",
       "<table border=\"1\" class=\"dataframe\">\n",
       "  <thead>\n",
       "    <tr style=\"text-align: right;\">\n",
       "      <th></th>\n",
       "      <th>velocity (km/h)</th>\n",
       "    </tr>\n",
       "  </thead>\n",
       "  <tbody>\n",
       "    <tr>\n",
       "      <th>0</th>\n",
       "      <td>125.934254</td>\n",
       "    </tr>\n",
       "    <tr>\n",
       "      <th>1</th>\n",
       "      <td>95.510881</td>\n",
       "    </tr>\n",
       "    <tr>\n",
       "      <th>2</th>\n",
       "      <td>127.757456</td>\n",
       "    </tr>\n",
       "    <tr>\n",
       "      <th>3</th>\n",
       "      <td>134.310552</td>\n",
       "    </tr>\n",
       "    <tr>\n",
       "      <th>4</th>\n",
       "      <td>112.272359</td>\n",
       "    </tr>\n",
       "    <tr>\n",
       "      <th>...</th>\n",
       "      <td>...</td>\n",
       "    </tr>\n",
       "    <tr>\n",
       "      <th>9995</th>\n",
       "      <td>119.601001</td>\n",
       "    </tr>\n",
       "    <tr>\n",
       "      <th>9996</th>\n",
       "      <td>114.278648</td>\n",
       "    </tr>\n",
       "    <tr>\n",
       "      <th>9997</th>\n",
       "      <td>123.540944</td>\n",
       "    </tr>\n",
       "    <tr>\n",
       "      <th>9998</th>\n",
       "      <td>123.507947</td>\n",
       "    </tr>\n",
       "    <tr>\n",
       "      <th>9999</th>\n",
       "      <td>122.363562</td>\n",
       "    </tr>\n",
       "  </tbody>\n",
       "</table>\n",
       "<p>10000 rows × 1 columns</p>\n",
       "</div>"
      ],
      "text/plain": [
       "      velocity (km/h)\n",
       "0          125.934254\n",
       "1           95.510881\n",
       "2          127.757456\n",
       "3          134.310552\n",
       "4          112.272359\n",
       "...               ...\n",
       "9995       119.601001\n",
       "9996       114.278648\n",
       "9997       123.540944\n",
       "9998       123.507947\n",
       "9999       122.363562\n",
       "\n",
       "[10000 rows x 1 columns]"
      ]
     },
     "execution_count": 28,
     "metadata": {},
     "output_type": "execute_result"
    }
   ],
   "source": [
    "speeds = input_df[['velocity (km/h)']]\n",
    "speeds "
   ]
  },
  {
   "cell_type": "code",
   "execution_count": 29,
   "id": "15998b9c",
   "metadata": {},
   "outputs": [
    {
     "data": {
      "text/html": [
       "<div>\n",
       "<style scoped>\n",
       "    .dataframe tbody tr th:only-of-type {\n",
       "        vertical-align: middle;\n",
       "    }\n",
       "\n",
       "    .dataframe tbody tr th {\n",
       "        vertical-align: top;\n",
       "    }\n",
       "\n",
       "    .dataframe thead th {\n",
       "        text-align: right;\n",
       "    }\n",
       "</style>\n",
       "<table border=\"1\" class=\"dataframe\">\n",
       "  <thead>\n",
       "    <tr style=\"text-align: right;\">\n",
       "      <th></th>\n",
       "      <th>velocity (km/h)</th>\n",
       "    </tr>\n",
       "  </thead>\n",
       "  <tbody>\n",
       "    <tr>\n",
       "      <th>count</th>\n",
       "      <td>10000.000000</td>\n",
       "    </tr>\n",
       "    <tr>\n",
       "      <th>mean</th>\n",
       "      <td>120.072098</td>\n",
       "    </tr>\n",
       "    <tr>\n",
       "      <th>std</th>\n",
       "      <td>9.019058</td>\n",
       "    </tr>\n",
       "    <tr>\n",
       "      <th>min</th>\n",
       "      <td>86.423152</td>\n",
       "    </tr>\n",
       "    <tr>\n",
       "      <th>25%</th>\n",
       "      <td>113.892676</td>\n",
       "    </tr>\n",
       "    <tr>\n",
       "      <th>50%</th>\n",
       "      <td>120.021618</td>\n",
       "    </tr>\n",
       "    <tr>\n",
       "      <th>75%</th>\n",
       "      <td>126.188008</td>\n",
       "    </tr>\n",
       "    <tr>\n",
       "      <th>max</th>\n",
       "      <td>151.501467</td>\n",
       "    </tr>\n",
       "  </tbody>\n",
       "</table>\n",
       "</div>"
      ],
      "text/plain": [
       "       velocity (km/h)\n",
       "count     10000.000000\n",
       "mean        120.072098\n",
       "std           9.019058\n",
       "min          86.423152\n",
       "25%         113.892676\n",
       "50%         120.021618\n",
       "75%         126.188008\n",
       "max         151.501467"
      ]
     },
     "execution_count": 29,
     "metadata": {},
     "output_type": "execute_result"
    }
   ],
   "source": [
    "speeds.describe()"
   ]
  },
  {
   "cell_type": "code",
   "execution_count": 30,
   "id": "744011c1",
   "metadata": {},
   "outputs": [
    {
     "data": {
      "image/png": "[encoded data removed]",
      "text/plain": [
       "<Figure size 640x480 with 1 Axes>"
      ]
     },
     "metadata": {},
     "output_type": "display_data"
    }
   ],
   "source": [
    "# plot histogram for distribution\n",
    "num_bins = 20\n",
    "n, bins, patches = plt.hist(speeds['velocity (km/h)'], num_bins, color = 'green')"
   ]
  },
  {
   "cell_type": "code",
   "execution_count": 31,
   "id": "19dd5d0f",
   "metadata": {},
   "outputs": [],
   "source": [
    "from scipy.stats import norm\n",
    "# Fit a normal distribution to the data:\n",
    "mu, std = norm.fit(speeds['velocity (km/h)'])"
   ]
  },
  {
   "cell_type": "code",
   "execution_count": 32,
   "id": "dddd3e45",
   "metadata": {},
   "outputs": [
    {
     "data": {
      "text/plain": [
       "120.07209801685764"
      ]
     },
     "execution_count": 32,
     "metadata": {},
     "output_type": "execute_result"
    }
   ],
   "source": [
    "mu"
   ]
  },
  {
   "cell_type": "code",
   "execution_count": 33,
   "id": "b9bc4b9d",
   "metadata": {},
   "outputs": [
    {
     "data": {
      "text/plain": [
       "9.018606933727643"
      ]
     },
     "execution_count": 33,
     "metadata": {},
     "output_type": "execute_result"
    }
   ],
   "source": [
    "std"
   ]
  },
  {
   "cell_type": "code",
   "execution_count": 34,
   "id": "70c8db66",
   "metadata": {},
   "outputs": [
    {
     "data": {
      "image/png": "[encoded data removed]",
      "text/plain": [
       "<Figure size 640x480 with 1 Axes>"
      ]
     },
     "metadata": {},
     "output_type": "display_data"
    }
   ],
   "source": [
    "# Plot the histogram.\n",
    "hist, _, _ = plt.hist(speeds['velocity (km/h)'], density = True, bins=20, color='g')\n",
    "\n",
    "# Plot the PDF.\n",
    "xmin, xmax = plt.xlim()\n",
    "x = np.linspace(xmin, xmax, 100)\n",
    "p = norm.pdf(x, mu, std)\n",
    "plt.plot(x, p, 'k', linewidth=2)\n",
    "title = \"Fit to normal distribution, results: mu = %.2f,  std = %.2f\" % (mu, std)\n",
    "plt.title(title)\n",
    "\n",
    "plt.show()"
   ]
  },
  {
   "cell_type": "code",
   "execution_count": 35,
   "id": "193d0d1d",
   "metadata": {},
   "outputs": [
    {
     "data": {
      "image/png": "[encoded data removed]",
      "text/plain": [
       "<Figure size 640x480 with 1 Axes>"
      ]
     },
     "metadata": {},
     "output_type": "display_data"
    }
   ],
   "source": [
    "normal_nums = [np.random.normal(loc=mu, scale=std, size=None) for i in range(0, 10000)]\n",
    "num_bins = 20\n",
    "n, bins, patches = plt.hist(normal_nums, num_bins, color = 'green')"
   ]
  },
  {
   "cell_type": "code",
   "execution_count": 36,
   "id": "ddfab0d5",
   "metadata": {},
   "outputs": [
    {
     "data": {
      "text/plain": [
       "103.67965088236616"
      ]
     },
     "execution_count": 36,
     "metadata": {},
     "output_type": "execute_result"
    }
   ],
   "source": [
    "np.random.normal(loc=mu, scale=std, size=None)"
   ]
  },
  {
   "cell_type": "code",
   "execution_count": null,
   "id": "7cb34285",
   "metadata": {},
   "outputs": [],
   "source": []
  }
 ],
 "metadata": {
  "kernelspec": {
   "display_name": "Python 3 (ipykernel)",
   "language": "python",
   "name": "python3"
  },
  "language_info": {
   "codemirror_mode": {
    "name": "ipython",
    "version": 3
   },
   "file_extension": ".py",
   "mimetype": "text/x-python",
   "name": "python",
   "nbconvert_exporter": "python",
   "pygments_lexer": "ipython3",
   "version": "3.9.13"
  }
 },
 "nbformat": 4,
 "nbformat_minor": 5
}
